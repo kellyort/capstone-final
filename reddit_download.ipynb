{
 "cells": [
  {
   "cell_type": "code",
   "execution_count": 1,
   "metadata": {},
   "outputs": [
    {
     "name": "stderr",
     "output_type": "stream",
     "text": [
      "/opt/homebrew/lib/python3.10/site-packages/tqdm/auto.py:22: TqdmWarning: IProgress not found. Please update jupyter and ipywidgets. See https://ipywidgets.readthedocs.io/en/stable/user_install.html\n",
      "  from .autonotebook import tqdm as notebook_tqdm\n",
      "Version 7.6.1 of praw is outdated. Version 7.7.0 was released Saturday February 25, 2023.\n"
     ]
    }
   ],
   "source": [
    "# import all relevant packages\n",
    "from tqdm.auto import tqdm\n",
    "import praw\n",
    "import time\n",
    "import json\n",
    "from datetime import datetime\n",
    "\n",
    "client_id = \"tVlTh68GbhKD1ygdzlB4-A\"\n",
    "client_secret = \"CYmaD9keRNxENnCdZgOQAnszDn9UVg\"\n",
    "user_agent = \"crimediscussion by u/capstone_crime\"\n",
    "\n",
    "reddit = praw.Reddit(client_id=client_id,\n",
    "                     client_secret=client_secret,\n",
    "                     user_agent=user_agent)\n"
   ]
  },
  {
   "cell_type": "code",
   "execution_count": 2,
   "metadata": {},
   "outputs": [],
   "source": [
    "def download_subreddit_posts(subreddit_name, num_posts, keyword=None):\n",
    "    subreddit = reddit.subreddit(subreddit_name)\n",
    "    if keyword is None:\n",
    "        return subreddit.new(limit=num_posts)\n",
    "    else:\n",
    "        return [post for post in subreddit.search(keyword, limit=num_posts)]\n",
    "\n",
    "def download_post_comments(post, max_comments, comment_depth, keyword=None):\n",
    "    post.comments.replace_more(limit=comment_depth)\n",
    "    comments = post.comments.list()[:max_comments]\n",
    "\n",
    "    if keyword is None:\n",
    "        return comments\n",
    "    else:\n",
    "        return [comment for comment in comments if keyword.lower() in comment.body.lower()]"
   ]
  },
  {
   "cell_type": "code",
   "execution_count": 3,
   "metadata": {},
   "outputs": [],
   "source": [
    "# creates a function to download subreddit data\n",
    "\n",
    "def download_subreddit_data(subreddit_name, num_posts, max_comments=200, comment_depth=0, keyword=None):\n",
    "    start_time = time.time()\n",
    "\n",
    "    posts = download_subreddit_posts(subreddit_name, num_posts, keyword=keyword)\n",
    "\n",
    "    subreddit_data = []\n",
    "    for post in tqdm(posts, desc=\"Downloading posts\", total=num_posts, unit=\"post\"):\n",
    "        post_data = {\n",
    "            \"title\": post.title,\n",
    "            \"id\": post.id,\n",
    "            \"url\": post.url,\n",
    "            \"comments\": []\n",
    "        }\n",
    "\n",
    "        comments = download_post_comments(post, max_comments, comment_depth)\n",
    "\n",
    "        for comment in comments:\n",
    "            comment_data = {\n",
    "                \"id\": comment.id,\n",
    "                \"body\": comment.body\n",
    "            }\n",
    "            post_data[\"comments\"].append(comment_data)\n",
    "\n",
    "        subreddit_data.append(post_data)\n",
    "\n",
    "    print(f\"Downloaded {num_posts} posts and their comments from r/{subreddit_name} in {time.time() - start_time:.2f} seconds\")\n",
    "    return subreddit_data"
   ]
  },
  {
   "cell_type": "code",
   "execution_count": 4,
   "metadata": {},
   "outputs": [],
   "source": [
    "# function to save the data to a JSON file\n",
    "\n",
    "def save_data_to_json(subreddit_data, output_filename):\n",
    "    with open(output_filename, 'w', encoding='utf-8') as f:\n",
    "        json.dump(subreddit_data, f, ensure_ascii=False, indent=4)"
   ]
  },
  {
   "cell_type": "code",
   "execution_count": 5,
   "metadata": {},
   "outputs": [],
   "source": [
    "# function to run entire process\n",
    "\n",
    "def main(subreddit_name, num_posts=1000, keyword=None):\n",
    "    data = download_subreddit_data(subreddit_name, num_posts, keyword=keyword)\n",
    "    output_filename = f\"{subreddit_name}_data.json\"\n",
    "    save_data_to_json(data, output_filename)\n",
    "    print(f\"Data saved to {output_filename}\")"
   ]
  },
  {
   "cell_type": "code",
   "execution_count": 6,
   "metadata": {},
   "outputs": [
    {
     "name": "stderr",
     "output_type": "stream",
     "text": [
      "Downloading posts:  96%|█████████▋| 965/1000 [30:15<01:05,  1.88s/post]  \n"
     ]
    },
    {
     "name": "stdout",
     "output_type": "stream",
     "text": [
      "Downloaded 1000 posts and their comments from r/unresolvedmysteries in 1815.25 seconds\n",
      "Data saved to unresolvedmysteries_data.json\n"
     ]
    }
   ],
   "source": [
    "if __name__ == \"__main__\":\n",
    "    main('unresolvedmysteries',1000)"
   ]
  },
  {
   "cell_type": "code",
   "execution_count": null,
   "metadata": {},
   "outputs": [],
   "source": []
  }
 ],
 "metadata": {
  "kernelspec": {
   "display_name": "Python 3",
   "language": "python",
   "name": "python3"
  },
  "language_info": {
   "codemirror_mode": {
    "name": "ipython",
    "version": 3
   },
   "file_extension": ".py",
   "mimetype": "text/x-python",
   "name": "python",
   "nbconvert_exporter": "python",
   "pygments_lexer": "ipython3",
   "version": "3.10.10"
  },
  "orig_nbformat": 4
 },
 "nbformat": 4,
 "nbformat_minor": 2
}
